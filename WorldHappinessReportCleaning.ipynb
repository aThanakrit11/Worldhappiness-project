{
  "nbformat": 4,
  "nbformat_minor": 0,
  "metadata": {
    "colab": {
      "provenance": []
    },
    "kernelspec": {
      "name": "python3",
      "display_name": "Python 3"
    },
    "language_info": {
      "name": "python"
    }
  },
  "cells": [
    {
      "cell_type": "code",
      "execution_count": null,
      "metadata": {
        "id": "pkBpVCNivyOV"
      },
      "outputs": [],
      "source": [
        "from google.colab import drive\n",
        "drive.mount('/content/drive')"
      ]
    },
    {
      "cell_type": "code",
      "source": [
        "import pandas as pd\n",
        "file_path = '/content/drive/MyDrive/WorldHappinessReport.csv'"
      ],
      "metadata": {
        "id": "AUt30M6mwVAL"
      },
      "execution_count": null,
      "outputs": []
    },
    {
      "cell_type": "markdown",
      "source": [
        "\"\"\"Introduction:\n",
        "\n",
        "-Explore the relationship between GDP per capita and other\n",
        "\n",
        "-Examine the top-ranked countries based on GDP per capita\n",
        "\n",
        "-relationship between 'Rank' and 'Score','Score' against 'GDPPerCap' to examine how they correlate-\n",
        "\n",
        "relationship between GDP per capita and other health indicators.\"\"\""
      ],
      "metadata": {
        "id": "158Sxao_0CvT"
      }
    },
    {
      "cell_type": "code",
      "source": [
        "# Display the first 5 rows of the DataFrame\n",
        "df = pd.read_csv(file_path)\n",
        "df.head(5)"
      ],
      "metadata": {
        "id": "vIhEXccmwhbl"
      },
      "execution_count": null,
      "outputs": []
    },
    {
      "cell_type": "code",
      "source": [
        "# Display the column names of the DataFrame\n",
        "df.columns"
      ],
      "metadata": {
        "id": "kWQX96wbxHM0"
      },
      "execution_count": null,
      "outputs": []
    },
    {
      "cell_type": "code",
      "source": [
        "# Rename columns for better clarity and consistency.\n",
        "df.columns = ['Rank','Country','Score','GDPPerCap','Social_Sup','HealthLifeExpectancy','FreedomToMakeLifeChoice','Generosity','PerceptionsOfCorruption']"
      ],
      "metadata": {
        "id": "gC2Fv8ROzpMT"
      },
      "execution_count": null,
      "outputs": []
    },
    {
      "cell_type": "code",
      "source": [
        "# Check if all values in the 'Rank' column are unique\n",
        "df['Rank'].is_unique"
      ],
      "metadata": {
        "id": "aC76W5fx2Yh1"
      },
      "execution_count": null,
      "outputs": []
    },
    {
      "cell_type": "code",
      "source": [
        "# Check the number of missing (null) values in each column of the DataFrame\n",
        "df.isnull().sum()"
      ],
      "metadata": {
        "id": "EHPGLPjh2gjZ"
      },
      "execution_count": null,
      "outputs": []
    },
    {
      "cell_type": "code",
      "source": [
        "# Display a summary of the DataFrame, including the number of entries,\n",
        "df.info()"
      ],
      "metadata": {
        "id": "tEQm57En10Wf"
      },
      "execution_count": null,
      "outputs": []
    },
    {
      "cell_type": "code",
      "source": [
        "# Display descriptive statistics for the numeric columns in the DataFrame 'df'\n",
        "df.describe()"
      ],
      "metadata": {
        "id": "SKJGE-yb5Q-N"
      },
      "execution_count": null,
      "outputs": []
    },
    {
      "cell_type": "code",
      "source": [
        "# Sort by 'GDPPerCap' in descending order and get the top 3 rows\n",
        "# Then display 'Country' and 'GDPPerCap' for the top 3 countries\n",
        "Top3GDP = df.sort_values(by='GDPPerCap',ascending = False).head(3)\n",
        "display(Top3GDP[['Country','GDPPerCap']])"
      ],
      "metadata": {
        "id": "UDlEF4G-97Jp"
      },
      "execution_count": null,
      "outputs": []
    },
    {
      "cell_type": "code",
      "source": [
        "# Drop the 'Rank' column and compute the correlation matrix for the remaining numeric columns\n",
        "Correlation_Matrix = df.drop('Rank', axis=1).corr(numeric_only=True)\n",
        "display(Correlation_Matrix)"
      ],
      "metadata": {
        "id": "Tfb3MmIeCO8Y"
      },
      "execution_count": null,
      "outputs": []
    },
    {
      "cell_type": "markdown",
      "source": [
        "The data shows a strong positive correlation between GDP per capita, Social Support, and Health Life Expectancy, all of which contribute significantly to higher Scores. Countries with higher economic output, better social support systems, and longer life expectancies tend to have higher overall well-being scores, suggesting that these factors are key drivers of national success in terms of quality of life."
      ],
      "metadata": {
        "id": "k5mE2u4U1MLN"
      }
    },
    {
      "cell_type": "code",
      "source": [
        "df.head(5)"
      ],
      "metadata": {
        "id": "PxqEamvHvit8"
      },
      "execution_count": null,
      "outputs": []
    },
    {
      "cell_type": "code",
      "source": [
        "# Plot a scatter graph to visualize the relationship between 'Rank' and 'Score'\n",
        "df.plot(kind='scatter',x = 'Rank', y='Score')"
      ],
      "metadata": {
        "id": "C_GrdAt-8Ds-"
      },
      "execution_count": null,
      "outputs": []
    },
    {
      "cell_type": "markdown",
      "source": [
        "Higher ranks correspond to higher Scores, indicating that countries with better health, social support, and overall well-being are ranked higher.The graph clearly shows a negative correlation between Rank and Score, suggesting that a better ranking typically means a higher quality of life and well-being."
      ],
      "metadata": {
        "id": "u3ZtGzHL3Hf1"
      }
    },
    {
      "cell_type": "code",
      "source": [
        "# Plot 'Score' against 'GDPPerCap' to examine how they correlate\n",
        "df.plot(kind='scatter',x = 'Score', y='GDPPerCap')"
      ],
      "metadata": {
        "id": "M8hhQql78nq7"
      },
      "execution_count": null,
      "outputs": []
    },
    {
      "cell_type": "markdown",
      "source": [
        "There is a strong positive correlation between Score and GDP per Capita, indicating that wealthier countries tend to have higher well-being scores.Countries with higher GDP per Capita generally offer better living standards, healthcare, and social services, which could lead to higher scores."
      ],
      "metadata": {
        "id": "LO8tdqb93b3L"
      }
    },
    {
      "cell_type": "code",
      "source": [
        "df.to_csv('/content/drive/My Drive/\"World.csv', index=False)\n",
        "df.to_excel('/content/drive/My Drive/World.xlsx', index=False)"
      ],
      "metadata": {
        "id": "T1UHws4pyE8P"
      },
      "execution_count": null,
      "outputs": []
    },
    {
      "cell_type": "markdown",
      "source": [
        "Key insights\n",
        "\n",
        "\n",
        "-Strong positive correlation between Score and GDP per Capita\n",
        "\n",
        "\n",
        "-Wealthier nations generally achieve higher well-being scores\n",
        "\n",
        "-Higher GDP per capita correlates with better living standards\n",
        "\n"
      ],
      "metadata": {
        "id": "GERgEa4r3xc_"
      }
    },
    {
      "cell_type": "markdown",
      "source": [
        "Recommendations\n",
        "\n",
        "\n",
        "Invest in improving living standards: With higher GDP per capita correlating with better living standards, governments should invest in infrastructure, healthcare, and education to further elevate the quality of life for citizens.\n",
        "Focus on boosting GDP per capita: Given the strong positive correlation between Score and GDP per Capita, increasing economic prosperity should be a priority for countries looking to improve overall well-being."
      ],
      "metadata": {
        "id": "F96IWvlz48t4"
      }
    },
    {
      "cell_type": "markdown",
      "source": [
        "Conclusion:\n",
        "\n",
        "\n",
        "The analysis reveals a strong connection between GDP per capita and overall well-being scores, with wealthier nations typically achieving higher scores. This suggests that economic prosperity plays a pivotal role in improving the living standards, healthcare, and overall quality of life in a country. To enhance national well-being, it is essential for countries to prioritize economic growth and inclusive development, while investing in social support systems and healthcare. By doing so, nations can increase both their GDP per capita and the quality of life for their citizens."
      ],
      "metadata": {
        "id": "yysP3TMu5KhT"
      }
    }
  ]
}